{
 "cells": [
  {
   "cell_type": "markdown",
   "id": "05da9b02",
   "metadata": {},
   "source": [
    "## Set up"
   ]
  },
  {
   "cell_type": "code",
   "execution_count": 58,
   "id": "d003894d",
   "metadata": {},
   "outputs": [
    {
     "name": "stdout",
     "output_type": "stream",
     "text": [
      "The autoreload extension is already loaded. To reload it, use:\n",
      "  %reload_ext autoreload\n",
      "The jupyter_black extension is already loaded. To reload it, use:\n",
      "  %reload_ext jupyter_black\n",
      "Working directory:  /home/facosta/pirnns/pirnns\n",
      "Directory added to path:  /home/facosta/pirnns\n",
      "Directory added to path:  /home/facosta/pirnns/pirnns\n"
     ]
    }
   ],
   "source": [
    "# autoreload\n",
    "%load_ext autoreload\n",
    "%autoreload 2\n",
    "# jupyter black formatter\n",
    "%load_ext jupyter_black\n",
    "\n",
    "import subprocess\n",
    "import os\n",
    "import sys\n",
    "\n",
    "gitroot_path = subprocess.check_output(\n",
    "    [\"git\", \"rev-parse\", \"--show-toplevel\"], universal_newlines=True\n",
    ")\n",
    "\n",
    "os.chdir(os.path.join(gitroot_path[:-1], \"pirnns\"))\n",
    "print(\"Working directory: \", os.getcwd())\n",
    "\n",
    "sys_dir = os.path.dirname(os.getcwd())\n",
    "sys.path.append(sys_dir)\n",
    "print(\"Directory added to path: \", sys_dir)\n",
    "sys.path.append(os.getcwd())\n",
    "print(\"Directory added to path: \", os.getcwd())"
   ]
  },
  {
   "cell_type": "markdown",
   "id": "9fd93222",
   "metadata": {},
   "source": [
    "## Load model"
   ]
  },
  {
   "cell_type": "code",
   "execution_count": 59,
   "id": "ccaf9450",
   "metadata": {},
   "outputs": [
    {
     "name": "stdout",
     "output_type": "stream",
     "text": [
      "Loading 1 experiments with 1 seeds each...\n",
      "Total models to load: 1\n",
      "Using Lightning checkpoints\n",
      "\n",
      "Loading experiment: discrete_single_05\n",
      "  ✓ Loaded discrete_single_05/seed_0\n",
      "\n",
      "Successfully loaded: 1/1 models\n"
     ]
    }
   ],
   "source": [
    "from pirnns.paper_figs.load_models import load_experiment_sweep\n",
    "import torch\n",
    "\n",
    "sweep_dir = (\n",
    "    \"/home/facosta/pirnns/pirnns/logs/experiments/timescales_sweep_20251002_055821\"\n",
    ")\n",
    "\n",
    "device = \"cuda\" if torch.cuda.is_available() else \"cpu\"\n",
    "\n",
    "models, metadata, summary = load_experiment_sweep(\n",
    "    sweep_dir=sweep_dir,\n",
    "    device=device,\n",
    "    use_lightning_checkpoint=True,\n",
    "    checkpoint_type=\"best\",\n",
    ")"
   ]
  },
  {
   "cell_type": "markdown",
   "id": "51b24958",
   "metadata": {},
   "source": [
    "### Load Position Decoding Measurement"
   ]
  },
  {
   "cell_type": "code",
   "execution_count": 63,
   "id": "0096a036",
   "metadata": {},
   "outputs": [],
   "source": [
    "from pirnns.analysis.measurements import PositionDecodingMeasurement\n",
    "\n",
    "config = models[\"discrete_single_05\"][0][\"config\"]\n",
    "\n",
    "measurement = PositionDecodingMeasurement(config)"
   ]
  },
  {
   "cell_type": "markdown",
   "id": "7d4c3478",
   "metadata": {},
   "source": [
    "### Load OOD Trajectory Length Analysis"
   ]
  },
  {
   "cell_type": "code",
   "execution_count": 66,
   "id": "aea50ab9",
   "metadata": {},
   "outputs": [
    {
     "data": {
      "text/plain": [
       "AnalysisResult(test_conditions=[20, 25, 50, 100], measurements=[0.08945048522949219, 0.087663720703125, 0.10240396728515624, 0.1354678955078125], condition_name='trajectory_length', metadata={'training_length': 20, 'num_test_trajectories': 100})"
      ]
     },
     "execution_count": 66,
     "metadata": {},
     "output_type": "execute_result"
    }
   ],
   "source": [
    "from pirnns.analysis.analyses import OODAnalysis\n",
    "\n",
    "model = models[\"discrete_single_05\"][0][\"model\"]\n",
    "\n",
    "place_cell_centers = models[\"discrete_single_05\"][0][\"place_cell_centers\"]\n",
    "\n",
    "analysis = OODAnalysis(\n",
    "    config, test_lengths=[20, 25, 50, 100], place_cell_centers=place_cell_centers\n",
    ")\n",
    "analysis.run(model, measurement)"
   ]
  },
  {
   "cell_type": "code",
   "execution_count": 65,
   "id": "cfcafca7",
   "metadata": {},
   "outputs": [
    {
     "data": {
      "text/plain": [
       "0.08473280212402344"
      ]
     },
     "execution_count": 65,
     "metadata": {},
     "output_type": "execute_result"
    }
   ],
   "source": [
    "models[\"discrete_single_05\"][0][\"position_decoding_errors\"][\"position_errors_epoch\"][-1]"
   ]
  },
  {
   "cell_type": "code",
   "execution_count": null,
   "id": "3a5cd883",
   "metadata": {},
   "outputs": [],
   "source": []
  }
 ],
 "metadata": {
  "kernelspec": {
   "display_name": "pirnns-yK7ughNc-py3.12",
   "language": "python",
   "name": "python3"
  },
  "language_info": {
   "codemirror_mode": {
    "name": "ipython",
    "version": 3
   },
   "file_extension": ".py",
   "mimetype": "text/x-python",
   "name": "python",
   "nbconvert_exporter": "python",
   "pygments_lexer": "ipython3",
   "version": "3.12.2"
  }
 },
 "nbformat": 4,
 "nbformat_minor": 5
}
